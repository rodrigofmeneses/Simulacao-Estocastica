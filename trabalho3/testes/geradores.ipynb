{
 "cells": [
  {
   "cell_type": "code",
   "execution_count": 2,
   "metadata": {},
   "outputs": [],
   "source": [
    "import sys\n",
    "sys.path.append('../')\n",
    "from rod import *"
   ]
  },
  {
   "cell_type": "code",
   "execution_count": 3,
   "metadata": {},
   "outputs": [
    {
     "name": "stdout",
     "output_type": "stream",
     "text": [
      "[0.09798077870997636, 0.7630027717738426, 0.7876401961723529, 0.8688320619374663, 0.46051997619705276, 0.9592949370664056, 0.8700622682785906, 0.136597951472084, 0.8018253845171189, 0.279292572419761]\n",
      "[True, False, False, False, True, False, False, True, False, True]\n",
      "[3, 6, 6, 7, 5, 8, 7, 3, 6, 4]\n",
      "[4, 8, 4, 3, 5, 6, 5, 1, 4, 4]\n"
     ]
    }
   ],
   "source": [
    "u = uniform()\n",
    "s = []\n",
    "for i in range(10):\n",
    "    s.append(next(u))\n",
    "print(s)\n",
    "\n",
    "s.clear()\n",
    "bnl = bernoulli(0.5)\n",
    "for i in range(10):\n",
    "    s.append(next(bnl))\n",
    "print(s)\n",
    "\n",
    "s.clear()\n",
    "bn = binomial(10,0.5)\n",
    "for i in range(10):\n",
    "    s.append(next(bn))\n",
    "print(s)\n",
    "\n",
    "s.clear()\n",
    "bn2=binomial2(10,0.5)\n",
    "for i in range(10):\n",
    "    s.append(next(bn2))\n",
    "print(s)\n",
    "\n",
    "s.clear()"
   ]
  },
  {
   "cell_type": "code",
   "execution_count": 14,
   "metadata": {},
   "outputs": [
    {
     "name": "stdout",
     "output_type": "stream",
     "text": [
      "Uniform: [0.09798077870997636, 0.7630027717738426, 0.7876401961723529, 0.8688320619374663, 0.46051997619705276]\n",
      "Bernoulli: [True, False, False, False, True]\n",
      "Binomial: [3, 6, 6, 7, 5]\n",
      "Binomial_2: [4, 8, 4, 3, 5]\n",
      "Geometric: [11, 2, 2, 1, 4]\n"
     ]
    }
   ],
   "source": [
    "print(\"Uniform:\", sample_uniform(5))\n",
    "print(\"Bernoulli:\", sample_bernoulli(0.5, 5))\n",
    "print(\"Binomial:\", sample_binomial(10,0.5, 5))\n",
    "print(\"Binomial_2:\",sample_binomial2(10,0.5, 5))\n",
    "print(\"Geometric:\", sample_geometric(0.2, 5))\n"
   ]
  },
  {
   "cell_type": "code",
   "execution_count": 17,
   "metadata": {},
   "outputs": [
    {
     "name": "stdout",
     "output_type": "stream",
     "text": [
      "2.384185791015625e-07\n"
     ]
    }
   ],
   "source": []
  }
 ],
 "metadata": {
  "kernelspec": {
   "display_name": "Python 3",
   "language": "python",
   "name": "python3"
  },
  "language_info": {
   "codemirror_mode": {
    "name": "ipython",
    "version": 3
   },
   "file_extension": ".py",
   "mimetype": "text/x-python",
   "name": "python",
   "nbconvert_exporter": "python",
   "pygments_lexer": "ipython3",
   "version": "3.9.1"
  }
 },
 "nbformat": 4,
 "nbformat_minor": 4
}
