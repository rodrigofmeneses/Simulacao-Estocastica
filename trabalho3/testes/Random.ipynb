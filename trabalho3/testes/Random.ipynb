{
 "cells": [
  {
   "cell_type": "code",
   "execution_count": 17,
   "metadata": {},
   "outputs": [],
   "source": [
    "import sys\n",
    "sys.path.append('../')\n",
    "import rod_random"
   ]
  },
  {
   "cell_type": "code",
   "execution_count": 18,
   "metadata": {},
   "outputs": [
    {
     "name": "stdout",
     "output_type": "stream",
     "text": [
      "Module Reload\n"
     ]
    }
   ],
   "source": [
    "from importlib import reload\n",
    "reload(rod_random)\n",
    "print(\"Module Reload\")"
   ]
  },
  {
   "cell_type": "code",
   "execution_count": 19,
   "metadata": {},
   "outputs": [
    {
     "name": "stdout",
     "output_type": "stream",
     "text": [
      "[0.6995964719446359, 0.1179589666975471, 0.536408278875243, 0.41399804941099044, 0.06527144371777374, 0.01720955782440005, 0.2410933478926743, 0.055953025378264964, 0.40255252570032724, 0.7003544386012267]\n",
      "[False, True, True, True, True, True, True, True, True, False]\n",
      "[13, 9, 12, 12, 9, 7, 10, 8, 11, 13]\n",
      "[1, 4, 1, 2, 4, 6, 3, 5, 2, 1]\n"
     ]
    }
   ],
   "source": [
    "rd = rod_random.Random()\n",
    "\n",
    "print(rd.uniform(10))\n",
    "print(rd.bernoulli(0.6, 10))\n",
    "print(rd.binomial(20, 0.6, 10))\n",
    "print(rd.geometric(0.5, 10))"
   ]
  },
  {
   "cell_type": "code",
   "execution_count": 15,
   "metadata": {},
   "outputs": [
    {
     "data": {
      "text/plain": [
       "12"
      ]
     },
     "execution_count": 15,
     "metadata": {},
     "output_type": "execute_result"
    }
   ],
   "source": [
    "12"
   ]
  },
  {
   "cell_type": "code",
   "execution_count": null,
   "metadata": {},
   "outputs": [],
   "source": []
  }
 ],
 "metadata": {
  "kernelspec": {
   "display_name": "Python 3",
   "language": "python",
   "name": "python3"
  },
  "language_info": {
   "codemirror_mode": {
    "name": "ipython",
    "version": 3
   },
   "file_extension": ".py",
   "mimetype": "text/x-python",
   "name": "python",
   "nbconvert_exporter": "python",
   "pygments_lexer": "ipython3",
   "version": "3.9.1"
  }
 },
 "nbformat": 4,
 "nbformat_minor": 4
}
