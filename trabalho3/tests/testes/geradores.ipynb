{
 "cells": [
  {
   "cell_type": "code",
   "execution_count": null,
   "metadata": {},
   "outputs": [],
   "source": [
    "import sys\n",
    "sys.path.append('../')\n",
    "from rod import *"
   ]
  },
  {
   "cell_type": "code",
   "execution_count": null,
   "metadata": {},
   "outputs": [],
   "source": [
    "u = uniform()\n",
    "s = []\n",
    "for i in range(10):\n",
    "    s.append(next(u))\n",
    "print(s)\n",
    "\n",
    "s.clear()\n",
    "bnl = bernoulli(0.5)\n",
    "for i in range(10):\n",
    "    s.append(next(bnl))\n",
    "print(s)\n",
    "\n",
    "s.clear()\n",
    "bn = binomial(10,0.5)\n",
    "for i in range(10):\n",
    "    s.append(next(bn))\n",
    "print(s)\n",
    "\n",
    "s.clear()\n",
    "bn2=binomial2(10,0.5)\n",
    "for i in range(10):\n",
    "    s.append(next(bn2))\n",
    "print(s)\n",
    "\n",
    "s.clear()"
   ]
  },
  {
   "cell_type": "code",
   "execution_count": null,
   "metadata": {},
   "outputs": [],
   "source": [
    "print(\"Uniform:\", sample_uniform(5))\n",
    "print(\"Bernoulli:\", sample_bernoulli(0.5, 5))\n",
    "print(\"Binomial:\", sample_binomial(10,0.5, 5))\n",
    "print(\"Binomial_2:\",sample_binomial2(10,0.5, 5))\n",
    "print(\"Geometric:\", sample_geometric(0.2, 5))\n",
    "print(\"Triangular:\", sample_triangular(0, 10, 5, 5))\n",
    "print(\"Weibull:\", sample_weibull(2., 1, 5))"
   ]
  },
  {
   "cell_type": "code",
   "execution_count": null,
   "metadata": {},
   "outputs": [],
   "source": []
  }
 ],
 "metadata": {
  "kernelspec": {
   "display_name": "Python 3",
   "language": "python",
   "name": "python3"
  },
  "language_info": {
   "codemirror_mode": {
    "name": "ipython",
    "version": 3
   },
   "file_extension": ".py",
   "mimetype": "text/x-python",
   "name": "python",
   "nbconvert_exporter": "python",
   "pygments_lexer": "ipython3",
   "version": "3.9.1"
  }
 },
 "nbformat": 4,
 "nbformat_minor": 4
}
