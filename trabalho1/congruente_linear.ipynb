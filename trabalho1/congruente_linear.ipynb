{
 "cells": [
  {
   "cell_type": "markdown",
   "metadata": {},
   "source": [
    "Rodrigo Fabrício Meneses - 376176"
   ]
  },
  {
   "cell_type": "code",
   "execution_count": 1,
   "metadata": {},
   "outputs": [],
   "source": [
    "import pandas as pd\n",
    "import scipy.stats as stats\n",
    "import math"
   ]
  },
  {
   "cell_type": "markdown",
   "metadata": {},
   "source": [
    "# Código Fonte"
   ]
  },
  {
   "cell_type": "code",
   "execution_count": 2,
   "metadata": {},
   "outputs": [],
   "source": [
    "# Método Congruencial Linear\n",
    "def mcl(a, b, m, seed, n, uniform=True):\n",
    "    # uniform: True, tranformará a amostra em uma uniforme [0, 1]\n",
    "    #          False, retorna mcl normal\n",
    "    \n",
    "    x = [seed]\n",
    "    for i in range(n):\n",
    "        x.append(((a * x[i] + b) % m))\n",
    "    x.remove(seed)\n",
    "    # Tranforma em uniforme [0, 1],\n",
    "    return [i / m for i in x] if uniform else x"
   ]
  },
  {
   "cell_type": "markdown",
   "metadata": {},
   "source": [
    "### Suporte para o teste de frequência"
   ]
  },
  {
   "cell_type": "code",
   "execution_count": 3,
   "metadata": {},
   "outputs": [],
   "source": [
    "def freq_esp(n_nums, n_classes):\n",
    "     return [n_nums // n_classes] * n_classes"
   ]
  },
  {
   "cell_type": "code",
   "execution_count": 4,
   "metadata": {},
   "outputs": [],
   "source": [
    "def freq_obs(x, n_classes):\n",
    "    f_o = [0] * n_classes\n",
    "    for num in x:\n",
    "        for i in range(n_classes):\n",
    "            if num < (i + 1)/n_classes:\n",
    "                f_o[i] += 1\n",
    "                break\n",
    "    return f_o"
   ]
  },
  {
   "cell_type": "code",
   "execution_count": 5,
   "metadata": {},
   "outputs": [],
   "source": [
    "def qui_quad(f_o, f_e):\n",
    "    return [(f_o[i] - f_e[i])**2 / f_e[i] for i in range(len(f_e))]"
   ]
  },
  {
   "cell_type": "code",
   "execution_count": 30,
   "metadata": {},
   "outputs": [],
   "source": [
    "def create_df(f_o, f_e, q_q, n_classes):\n",
    "    df = pd.DataFrame(index=range(n_classes), \\\n",
    "        columns=['Classes', 'Freq Observada', 'Freq Esperada', 'Qui Quadrado'])\n",
    "    \n",
    "    # 10 classes\n",
    "    if n_classes == 10:\n",
    "        classes = [f'0.{i}0 - 0.{i + 1}0' for i in range(9)]\n",
    "        classes.append('0.90 - 1.00')\n",
    "    \n",
    "    #100 classes\n",
    "    if n_classes == 100:\n",
    "        classes = [f'0.0{i} - 0.0{i + 1}' for i in range(9)]\n",
    "        classes.append('0.09 - 0.10')\n",
    "        for i in range(10, 99):\n",
    "            classes.append(f'0.{i} - 0.{i + 1}')\n",
    "        classes.append('0.99 - 1.00')\n",
    "    \n",
    "    df['Classes'] = classes\n",
    "    df['Freq Observada'] = f_o\n",
    "    df['Freq Esperada'] = f_e\n",
    "    df['Qui Quadrado'] = q_q\n",
    "    return df"
   ]
  },
  {
   "cell_type": "markdown",
   "metadata": {},
   "source": [
    "# Testes"
   ]
  },
  {
   "cell_type": "markdown",
   "metadata": {},
   "source": [
    "### Teste de Frequência"
   ]
  },
  {
   "cell_type": "code",
   "execution_count": 9,
   "metadata": {},
   "outputs": [],
   "source": [
    "def teste_de_frequencia(x, n_classes, alfa):\n",
    "    # Tamanho da instancia\n",
    "    n_nums = len(x)\n",
    "    # Vetor de Frequências Observadas\n",
    "    f_o = freq_obs(x, n_classes)\n",
    "    # Vetor de Frequências Esperadas\n",
    "    f_e = freq_esp(n_nums, n_classes)\n",
    "    # Vetor de Qui-Quadrados\n",
    "    q_q = qui_quad(f_o, f_e)\n",
    "    \n",
    "    liberdade = len(f_e) - 1\n",
    "    \n",
    "    print('Teste de frequência\\n')\n",
    "    \n",
    "    print(create_df(f_o, f_e, q_q, n_classes),'\\n')\n",
    "\n",
    "    print(f'H0: O conjunto de dados é uniformemente distribuido')\n",
    "    print(f'H1: O conjunto de dados NÃO é uniformemente distribuido\\n')\n",
    "    \n",
    "    print(f'Se o valor de nossa Estatística for menor que o valor tabelado, \\\n",
    "            não rejeitamos nossa hipótese nula, caso contrário, a rejeitamos.\\n')\n",
    "\n",
    "    print(f'{sum(q_q)} : Valor da estatística')\n",
    "    print(f'{stats.chi2.ppf(1 - alfa, liberdade)} : Valor tabelado da qui-quadrado \\\n",
    "            com {liberdade} graus de liberdade e significância alfa de {alfa}\\n')\n",
    "\n",
    "    if sum(q_q) < stats.chi2.ppf(1 - alfa, liberdade):\n",
    "        print(f'Com evidência de {(1 - alfa) * 100}%, \\\n",
    "            NÃO REJEITAMOS a hipótese de que os dados são uniformemente distribuidos')\n",
    "    else:\n",
    "        print(f'Com evidência de {(1 - alfa) * 100}%, \\\n",
    "            REJEITAMOS a hipótese de que os dados são uniformemente distribuidos')"
   ]
  },
  {
   "cell_type": "markdown",
   "metadata": {},
   "source": [
    "### Teste de Execução"
   ]
  },
  {
   "cell_type": "code",
   "execution_count": 10,
   "metadata": {},
   "outputs": [],
   "source": [
    "def teste_de_execucao(x, alfa):\n",
    "    troca = x[0] > x[1]\n",
    "    execucoes = 1\n",
    "    for i in range(1, len(x) - 1):\n",
    "        if (x[i] > x[i + 1]) != troca:\n",
    "            troca = not troca\n",
    "            execucoes += 1\n",
    "\n",
    "    med_execucoes_esp = (2 * len(x) - 1) / 3\n",
    "    var_execucoes_esp = (16 * len(x) - 29) / 90\n",
    "\n",
    "    Z = (execucoes - med_execucoes_esp) / math.sqrt(var_execucoes_esp)\n",
    "\n",
    "    print('Teste de execução\\n')\n",
    "    \n",
    "    print(f'Houve {execucoes} execuções\\n')\n",
    "\n",
    "    print(f'H0: Média de execuções esperada = {med_execucoes_esp}')\n",
    "    print(f'H1: Média de execuções esperada != {med_execucoes_esp}\\n')\n",
    "\n",
    "    print(f'Se o valor de Z estiver em: {stats.norm.ppf(alfa)} < Z < {stats.norm.ppf(1 - alfa)} \\\n",
    "            aceitamos que os números são gerados aleatoriamente, caso contrário, a rejeitamos.\\n')\n",
    "\n",
    "    print(f'{Z} : Valor da estatística\\n')\n",
    "\n",
    "    if stats.norm.ppf(alfa) < Z < stats.norm.ppf(1 - alfa):\n",
    "        print(f'Com evidência de {(1 - alfa) * 100}%, NÃO REJEITAMOS a hipótese de que os dados são gerados aleatoriamente')\n",
    "    else:\n",
    "        print(f'Com evidência de {(1 - alfa) * 100}%, REJEITAMOS a hipótese de que os dados são gerados aleatoriamente')"
   ]
  },
  {
   "cell_type": "code",
   "execution_count": 11,
   "metadata": {},
   "outputs": [],
   "source": [
    "def executar(x, n_classes=10, alfa=0.05):\n",
    "    teste_de_frequencia(x, n_classes, alfa)\n",
    "    teste_de_execucao(x, alfa)"
   ]
  },
  {
   "cell_type": "markdown",
   "metadata": {},
   "source": [
    "# Amostras PDF e Slides"
   ]
  },
  {
   "cell_type": "code",
   "execution_count": 12,
   "metadata": {},
   "outputs": [
    {
     "data": {
      "text/plain": [
       "[0.02, 0.77, 0.52, 0.27, 0.02, 0.77, 0.52, 0.27, 0.02, 0.77]"
      ]
     },
     "execution_count": 12,
     "metadata": {},
     "output_type": "execute_result"
    }
   ],
   "source": [
    "# Exemplo 1\n",
    "exemplo_1 = mcl(a=17, b=43, m=100, seed=27, n = 1000)\n",
    "exemplo_1[:10]"
   ]
  },
  {
   "cell_type": "code",
   "execution_count": 13,
   "metadata": {},
   "outputs": [
    {
     "data": {
      "text/plain": [
       "[0.203125, 0.640625, 0.328125, 0.265625, 0.453125, 0.890625, 0.578125]"
      ]
     },
     "execution_count": 13,
     "metadata": {},
     "output_type": "execute_result"
    }
   ],
   "source": [
    "# Exemplo 2, i = 1\n",
    "exemplo_2_1 = mcl(a=13, b=0, m=2**6, seed=1, n = 1000)\n",
    "exemplo_2_1[:7]"
   ]
  },
  {
   "cell_type": "code",
   "execution_count": 14,
   "metadata": {},
   "outputs": [
    {
     "data": {
      "text/plain": [
       "[0.40625, 0.28125, 0.65625, 0.53125, 0.90625, 0.78125, 0.15625, 0.03125]"
      ]
     },
     "execution_count": 14,
     "metadata": {},
     "output_type": "execute_result"
    }
   ],
   "source": [
    "# Exemplo 2, i = 2\n",
    "exemplo_2_2 = mcl(a=13, b=0, m=2**6, seed=2, n = 1000)\n",
    "exemplo_2_2[:8]"
   ]
  },
  {
   "cell_type": "code",
   "execution_count": 15,
   "metadata": {},
   "outputs": [
    {
     "data": {
      "text/plain": [
       "[0.609375, 0.921875, 0.984375, 0.796875, 0.359375, 0.671875, 0.734375]"
      ]
     },
     "execution_count": 15,
     "metadata": {},
     "output_type": "execute_result"
    }
   ],
   "source": [
    "# Exemplo 2, i = 3\n",
    "exemplo_2_3 = mcl(a=13, b=0, m=2**6, seed=3, n = 1000)\n",
    "exemplo_2_3[:7]"
   ]
  },
  {
   "cell_type": "code",
   "execution_count": 16,
   "metadata": {},
   "outputs": [
    {
     "data": {
      "text/plain": [
       "[0.8125, 0.5625, 0.3125, 0.0625, 0.8125, 0.5625, 0.3125, 0.0625, 0.8125]"
      ]
     },
     "execution_count": 16,
     "metadata": {},
     "output_type": "execute_result"
    }
   ],
   "source": [
    "# Exemplo 2, i = 4\n",
    "exemplo_2_4 = mcl(a=13, b=0, m=2**6, seed=4, n = 1000)\n",
    "exemplo_2_4[:9]"
   ]
  },
  {
   "cell_type": "code",
   "execution_count": 17,
   "metadata": {},
   "outputs": [
    {
     "data": {
      "text/plain": [
       "[0.97, 0.43, 0.17, 0.23, 0.37, 0.03, 0.57, 0.83, 0.77, 0.63]"
      ]
     },
     "execution_count": 17,
     "metadata": {},
     "output_type": "execute_result"
    }
   ],
   "source": [
    "# Exemplo 3\n",
    "exemplo_3 = mcl(a=19, b=0, m=100, seed=63, n = 1000)\n",
    "exemplo_3[:10]"
   ]
  },
  {
   "cell_type": "code",
   "execution_count": 18,
   "metadata": {
    "scrolled": true
   },
   "outputs": [
    {
     "data": {
      "text/plain": [
       "[0.9662122432916482,\n",
       " 0.12917300273160123,\n",
       " 0.01065691002209527,\n",
       " 0.11068674135519506,\n",
       " 0.31206195676329634,\n",
       " 0.8253073207220563,\n",
       " 0.940139375599166,\n",
       " 0.9224856951844346,\n",
       " 0.21707896479269442,\n",
       " 0.4461612708150229]"
      ]
     },
     "execution_count": 18,
     "metadata": {},
     "output_type": "execute_result"
    }
   ],
   "source": [
    "# Exemplo comercial\n",
    "exemplo_comercial = mcl(a=7**5, b=0, m=2**31 - 1, seed=123456, n=1000)\n",
    "exemplo_comercial[:10]"
   ]
  },
  {
   "cell_type": "code",
   "execution_count": 19,
   "metadata": {},
   "outputs": [],
   "source": [
    "exemplo_slide_exec = [0.43, 0.32, 0.48, 0.23, 0.90, 0.72, 0.94, 0.11, 0.14, 0.67,\n",
    "0.61, 0.25, 0.45, 0.56, 0.87, 0.54, 0.01, 0.64, 0.65, 0.32, 0.03,\n",
    "0.93, 0.08, 0.58, 0.41, 0.32, 0.03, 0.18, 0.90, 0.74, 0.32,\n",
    "0.75, 0.42, 0.71, 0.66, 0.03, 0.44, 0.99, 0.40, 0.51]"
   ]
  },
  {
   "cell_type": "markdown",
   "metadata": {},
   "source": [
    "# Experimentos Computacionais"
   ]
  },
  {
   "cell_type": "markdown",
   "metadata": {},
   "source": [
    "### Dados dos exemplos, n = 1000, 10 classes, alfa = 0.05"
   ]
  },
  {
   "cell_type": "code",
   "execution_count": 20,
   "metadata": {},
   "outputs": [
    {
     "name": "stdout",
     "output_type": "stream",
     "text": [
      "10 primeiros elementos:  [0.02, 0.77, 0.52, 0.27, 0.02, 0.77, 0.52, 0.27, 0.02, 0.77] \n",
      "\n",
      "Teste de frequência\n",
      "\n",
      "       Classes  Freq Observada  Freq Esperada  Qui Quadrado\n",
      "0  0.00 - 0.10             250            100         225.0\n",
      "1  0.10 - 0.20               0            100         100.0\n",
      "2  0.20 - 0.30             250            100         225.0\n",
      "3  0.30 - 0.40               0            100         100.0\n",
      "4  0.40 - 0.50               0            100         100.0\n",
      "5  0.50 - 0.60             250            100         225.0\n",
      "6  0.60 - 0.70               0            100         100.0\n",
      "7  0.70 - 0.80             250            100         225.0\n",
      "8  0.80 - 0.90               0            100         100.0\n",
      "9  0.90 - 1.00               0            100         100.0 \n",
      "\n",
      "H0: O conjunto de dados é uniformemente distribuido\n",
      "H1: O conjunto de dados NÃO é uniformemente distribuido\n",
      "\n",
      "Se o valor de nossa Estatística for menor que o valor tabelado,             não rejeitamos nossa hipótese nula, caso contrário, a rejeitamos.\n",
      "\n",
      "1500.0 : Valor da estatística\n",
      "16.918977604620448 : Valor tabelado da qui-quadrado             com 9 graus de liberdade e significância alfa de 0.05\n",
      "\n",
      "Com evidência de 95.0%,             REJEITAMOS a hipótese de que os dados são uniformemente distribuidos\n",
      "Teste de execução\n",
      "\n",
      "Houve 500 execuções\n",
      "\n",
      "H0: Média de execuções esperada = 666.3333333333334\n",
      "H1: Média de execuções esperada != 666.3333333333334\n",
      "\n",
      "Se o valor de Z estiver em: -1.6448536269514729 < Z < 1.6448536269514722             aceitamos que os números são gerados aleatoriamente, caso contrário, a rejeitamos.\n",
      "\n",
      "-12.486320860371103 : Valor da estatística\n",
      "\n",
      "Com evidência de 95.0%, REJEITAMOS a hipótese de que os dados são gerados aleatoriamente\n"
     ]
    }
   ],
   "source": [
    "print('10 primeiros elementos: ', exemplo_1[:10], '\\n')\n",
    "executar(exemplo_1)"
   ]
  },
  {
   "cell_type": "code",
   "execution_count": 21,
   "metadata": {},
   "outputs": [
    {
     "name": "stdout",
     "output_type": "stream",
     "text": [
      "10 primeiros elementos:  [0.203125, 0.640625, 0.328125, 0.265625, 0.453125, 0.890625, 0.578125, 0.515625, 0.703125, 0.140625] \n",
      "\n",
      "Teste de frequência\n",
      "\n",
      "       Classes  Freq Observada  Freq Esperada  Qui Quadrado\n",
      "0  0.00 - 0.10             124            100          5.76\n",
      "1  0.10 - 0.20              62            100         14.44\n",
      "2  0.20 - 0.30             126            100          6.76\n",
      "3  0.30 - 0.40             125            100          6.25\n",
      "4  0.40 - 0.50              63            100         13.69\n",
      "5  0.50 - 0.60             126            100          6.76\n",
      "6  0.60 - 0.70              63            100         13.69\n",
      "7  0.70 - 0.80             124            100          5.76\n",
      "8  0.80 - 0.90             125            100          6.25\n",
      "9  0.90 - 1.00              62            100         14.44 \n",
      "\n",
      "H0: O conjunto de dados é uniformemente distribuido\n",
      "H1: O conjunto de dados NÃO é uniformemente distribuido\n",
      "\n",
      "Se o valor de nossa Estatística for menor que o valor tabelado,             não rejeitamos nossa hipótese nula, caso contrário, a rejeitamos.\n",
      "\n",
      "93.8 : Valor da estatística\n",
      "16.918977604620448 : Valor tabelado da qui-quadrado             com 9 graus de liberdade e significância alfa de 0.05\n",
      "\n",
      "Com evidência de 95.0%,             REJEITAMOS a hipótese de que os dados são uniformemente distribuidos\n",
      "Teste de execução\n",
      "\n",
      "Houve 624 execuções\n",
      "\n",
      "H0: Média de execuções esperada = 666.3333333333334\n",
      "H1: Média de execuções esperada != 666.3333333333334\n",
      "\n",
      "Se o valor de Z estiver em: -1.6448536269514729 < Z < 1.6448536269514722             aceitamos que os números são gerados aleatoriamente, caso contrário, a rejeitamos.\n",
      "\n",
      "-3.1778812610563754 : Valor da estatística\n",
      "\n",
      "Com evidência de 95.0%, REJEITAMOS a hipótese de que os dados são gerados aleatoriamente\n"
     ]
    }
   ],
   "source": [
    "print('10 primeiros elementos: ', exemplo_2_1[:10], '\\n')\n",
    "executar(exemplo_2_1)"
   ]
  },
  {
   "cell_type": "code",
   "execution_count": 22,
   "metadata": {},
   "outputs": [
    {
     "name": "stdout",
     "output_type": "stream",
     "text": [
      "10 primeiros elementos:  [0.40625, 0.28125, 0.65625, 0.53125, 0.90625, 0.78125, 0.15625, 0.03125, 0.40625, 0.28125] \n",
      "\n",
      "Teste de frequência\n",
      "\n",
      "       Classes  Freq Observada  Freq Esperada  Qui Quadrado\n",
      "0  0.00 - 0.10             125            100          6.25\n",
      "1  0.10 - 0.20             125            100          6.25\n",
      "2  0.20 - 0.30             125            100          6.25\n",
      "3  0.30 - 0.40               0            100        100.00\n",
      "4  0.40 - 0.50             125            100          6.25\n",
      "5  0.50 - 0.60             125            100          6.25\n",
      "6  0.60 - 0.70             125            100          6.25\n",
      "7  0.70 - 0.80             125            100          6.25\n",
      "8  0.80 - 0.90               0            100        100.00\n",
      "9  0.90 - 1.00             125            100          6.25 \n",
      "\n",
      "H0: O conjunto de dados é uniformemente distribuido\n",
      "H1: O conjunto de dados NÃO é uniformemente distribuido\n",
      "\n",
      "Se o valor de nossa Estatística for menor que o valor tabelado,             não rejeitamos nossa hipótese nula, caso contrário, a rejeitamos.\n",
      "\n",
      "250.0 : Valor da estatística\n",
      "16.918977604620448 : Valor tabelado da qui-quadrado             com 9 graus de liberdade e significância alfa de 0.05\n",
      "\n",
      "Com evidência de 95.0%,             REJEITAMOS a hipótese de que os dados são uniformemente distribuidos\n",
      "Teste de execução\n",
      "\n",
      "Houve 749 execuções\n",
      "\n",
      "H0: Média de execuções esperada = 666.3333333333334\n",
      "H1: Média de execuções esperada != 666.3333333333334\n",
      "\n",
      "Se o valor de Z estiver em: -1.6448536269514729 < Z < 1.6448536269514722             aceitamos que os números são gerados aleatoriamente, caso contrário, a rejeitamos.\n",
      "\n",
      "6.205626399543149 : Valor da estatística\n",
      "\n",
      "Com evidência de 95.0%, REJEITAMOS a hipótese de que os dados são gerados aleatoriamente\n"
     ]
    }
   ],
   "source": [
    "print('10 primeiros elementos: ', exemplo_2_2[:10], '\\n')\n",
    "executar(exemplo_2_2)"
   ]
  },
  {
   "cell_type": "code",
   "execution_count": 23,
   "metadata": {},
   "outputs": [
    {
     "name": "stdout",
     "output_type": "stream",
     "text": [
      "10 primeiros elementos:  [0.9662122432916482, 0.12917300273160123, 0.01065691002209527, 0.11068674135519506, 0.31206195676329634, 0.8253073207220563, 0.940139375599166, 0.9224856951844346, 0.21707896479269442, 0.4461612708150229] \n",
      "\n",
      "Teste de frequência\n",
      "\n",
      "       Classes  Freq Observada  Freq Esperada  Qui Quadrado\n",
      "0  0.00 - 0.10             109            100          0.81\n",
      "1  0.10 - 0.20              98            100          0.04\n",
      "2  0.20 - 0.30             101            100          0.01\n",
      "3  0.30 - 0.40             107            100          0.49\n",
      "4  0.40 - 0.50             102            100          0.04\n",
      "5  0.50 - 0.60              85            100          2.25\n",
      "6  0.60 - 0.70             106            100          0.36\n",
      "7  0.70 - 0.80             100            100          0.00\n",
      "8  0.80 - 0.90              96            100          0.16\n",
      "9  0.90 - 1.00              96            100          0.16 \n",
      "\n",
      "H0: O conjunto de dados é uniformemente distribuido\n",
      "H1: O conjunto de dados NÃO é uniformemente distribuido\n",
      "\n",
      "Se o valor de nossa Estatística for menor que o valor tabelado,             não rejeitamos nossa hipótese nula, caso contrário, a rejeitamos.\n",
      "\n",
      "4.32 : Valor da estatística\n",
      "16.918977604620448 : Valor tabelado da qui-quadrado             com 9 graus de liberdade e significância alfa de 0.05\n",
      "\n",
      "Com evidência de 95.0%,             NÃO REJEITAMOS a hipótese de que os dados são uniformemente distribuidos\n",
      "Teste de execução\n",
      "\n",
      "Houve 661 execuções\n",
      "\n",
      "H0: Média de execuções esperada = 666.3333333333334\n",
      "H1: Média de execuções esperada != 666.3333333333334\n",
      "\n",
      "Se o valor de Z estiver em: -1.6448536269514729 < Z < 1.6448536269514722             aceitamos que os números são gerados aleatoriamente, caso contrário, a rejeitamos.\n",
      "\n",
      "-0.4003629935189159 : Valor da estatística\n",
      "\n",
      "Com evidência de 95.0%, NÃO REJEITAMOS a hipótese de que os dados são gerados aleatoriamente\n"
     ]
    }
   ],
   "source": [
    "print('10 primeiros elementos: ', exemplo_comercial[:10], '\\n')\n",
    "executar(exemplo_comercial)"
   ]
  },
  {
   "cell_type": "code",
   "execution_count": 24,
   "metadata": {},
   "outputs": [
    {
     "name": "stdout",
     "output_type": "stream",
     "text": [
      "10 primeiros elementos:  [0.8125, 0.5625, 0.3125, 0.0625, 0.8125, 0.5625, 0.3125, 0.0625, 0.8125, 0.5625] \n",
      "\n",
      "Teste de frequência\n",
      "\n",
      "       Classes  Freq Observada  Freq Esperada  Qui Quadrado\n",
      "0  0.00 - 0.10             250            100         225.0\n",
      "1  0.10 - 0.20               0            100         100.0\n",
      "2  0.20 - 0.30               0            100         100.0\n",
      "3  0.30 - 0.40             250            100         225.0\n",
      "4  0.40 - 0.50               0            100         100.0\n",
      "5  0.50 - 0.60             250            100         225.0\n",
      "6  0.60 - 0.70               0            100         100.0\n",
      "7  0.70 - 0.80               0            100         100.0\n",
      "8  0.80 - 0.90             250            100         225.0\n",
      "9  0.90 - 1.00               0            100         100.0 \n",
      "\n",
      "H0: O conjunto de dados é uniformemente distribuido\n",
      "H1: O conjunto de dados NÃO é uniformemente distribuido\n",
      "\n",
      "Se o valor de nossa Estatística for menor que o valor tabelado,             não rejeitamos nossa hipótese nula, caso contrário, a rejeitamos.\n",
      "\n",
      "1500.0 : Valor da estatística\n",
      "16.918977604620448 : Valor tabelado da qui-quadrado             com 9 graus de liberdade e significância alfa de 0.05\n",
      "\n",
      "Com evidência de 95.0%,             REJEITAMOS a hipótese de que os dados são uniformemente distribuidos\n",
      "Teste de execução\n",
      "\n",
      "Houve 499 execuções\n",
      "\n",
      "H0: Média de execuções esperada = 666.3333333333334\n",
      "H1: Média de execuções esperada != 666.3333333333334\n",
      "\n",
      "Se o valor de Z estiver em: -1.6448536269514729 < Z < 1.6448536269514722             aceitamos que os números são gerados aleatoriamente, caso contrário, a rejeitamos.\n",
      "\n",
      "-12.561388921655901 : Valor da estatística\n",
      "\n",
      "Com evidência de 95.0%, REJEITAMOS a hipótese de que os dados são gerados aleatoriamente\n"
     ]
    }
   ],
   "source": [
    "print('10 primeiros elementos: ', exemplo_2_4[:10], '\\n')\n",
    "executar(exemplo_2_4)"
   ]
  },
  {
   "cell_type": "code",
   "execution_count": 25,
   "metadata": {},
   "outputs": [
    {
     "name": "stdout",
     "output_type": "stream",
     "text": [
      "10 primeiros elementos:  [0.97, 0.43, 0.17, 0.23, 0.37, 0.03, 0.57, 0.83, 0.77, 0.63] \n",
      "\n",
      "Teste de frequência\n",
      "\n",
      "       Classes  Freq Observada  Freq Esperada  Qui Quadrado\n",
      "0  0.00 - 0.10             100            100           0.0\n",
      "1  0.10 - 0.20             100            100           0.0\n",
      "2  0.20 - 0.30             100            100           0.0\n",
      "3  0.30 - 0.40             100            100           0.0\n",
      "4  0.40 - 0.50             100            100           0.0\n",
      "5  0.50 - 0.60             100            100           0.0\n",
      "6  0.60 - 0.70             100            100           0.0\n",
      "7  0.70 - 0.80             100            100           0.0\n",
      "8  0.80 - 0.90             100            100           0.0\n",
      "9  0.90 - 1.00             100            100           0.0 \n",
      "\n",
      "H0: O conjunto de dados é uniformemente distribuido\n",
      "H1: O conjunto de dados NÃO é uniformemente distribuido\n",
      "\n",
      "Se o valor de nossa Estatística for menor que o valor tabelado,             não rejeitamos nossa hipótese nula, caso contrário, a rejeitamos.\n",
      "\n",
      "0.0 : Valor da estatística\n",
      "16.918977604620448 : Valor tabelado da qui-quadrado             com 9 graus de liberdade e significância alfa de 0.05\n",
      "\n",
      "Com evidência de 95.0%,             NÃO REJEITAMOS a hipótese de que os dados são uniformemente distribuidos\n",
      "Teste de execução\n",
      "\n",
      "Houve 599 execuções\n",
      "\n",
      "H0: Média de execuções esperada = 666.3333333333334\n",
      "H1: Média de execuções esperada != 666.3333333333334\n",
      "\n",
      "Se o valor de Z estiver em: -1.6448536269514729 < Z < 1.6448536269514722             aceitamos que os números são gerados aleatoriamente, caso contrário, a rejeitamos.\n",
      "\n",
      "-5.05458279317628 : Valor da estatística\n",
      "\n",
      "Com evidência de 95.0%, REJEITAMOS a hipótese de que os dados são gerados aleatoriamente\n"
     ]
    }
   ],
   "source": [
    "print('10 primeiros elementos: ', exemplo_3[:10], '\\n')\n",
    "executar(exemplo_3)"
   ]
  },
  {
   "cell_type": "markdown",
   "metadata": {},
   "source": [
    "### Dados do exemplo comercial, já que são mais interessantes"
   ]
  },
  {
   "cell_type": "markdown",
   "metadata": {},
   "source": [
    "### n = 1000, 10 classes, alfa = 0.05"
   ]
  },
  {
   "cell_type": "code",
   "execution_count": 26,
   "metadata": {},
   "outputs": [
    {
     "name": "stdout",
     "output_type": "stream",
     "text": [
      "10 primeiros elementos:  [0.9662122432916482, 0.12917300273160123, 0.01065691002209527, 0.11068674135519506, 0.31206195676329634, 0.8253073207220563, 0.940139375599166, 0.9224856951844346, 0.21707896479269442, 0.4461612708150229] \n",
      "\n",
      "Teste de frequência\n",
      "\n",
      "       Classes  Freq Observada  Freq Esperada  Qui Quadrado\n",
      "0  0.00 - 0.10             109            100          0.81\n",
      "1  0.10 - 0.20              98            100          0.04\n",
      "2  0.20 - 0.30             101            100          0.01\n",
      "3  0.30 - 0.40             107            100          0.49\n",
      "4  0.40 - 0.50             102            100          0.04\n",
      "5  0.50 - 0.60              85            100          2.25\n",
      "6  0.60 - 0.70             106            100          0.36\n",
      "7  0.70 - 0.80             100            100          0.00\n",
      "8  0.80 - 0.90              96            100          0.16\n",
      "9  0.90 - 1.00              96            100          0.16 \n",
      "\n",
      "H0: O conjunto de dados é uniformemente distribuido\n",
      "H1: O conjunto de dados NÃO é uniformemente distribuido\n",
      "\n",
      "Se o valor de nossa Estatística for menor que o valor tabelado,             não rejeitamos nossa hipótese nula, caso contrário, a rejeitamos.\n",
      "\n",
      "4.32 : Valor da estatística\n",
      "16.918977604620448 : Valor tabelado da qui-quadrado             com 9 graus de liberdade e significância alfa de 0.05\n",
      "\n",
      "Com evidência de 95.0%,             NÃO REJEITAMOS a hipótese de que os dados são uniformemente distribuidos\n",
      "Teste de execução\n",
      "\n",
      "Houve 661 execuções\n",
      "\n",
      "H0: Média de execuções esperada = 666.3333333333334\n",
      "H1: Média de execuções esperada != 666.3333333333334\n",
      "\n",
      "Se o valor de Z estiver em: -1.6448536269514729 < Z < 1.6448536269514722             aceitamos que os números são gerados aleatoriamente, caso contrário, a rejeitamos.\n",
      "\n",
      "-0.4003629935189159 : Valor da estatística\n",
      "\n",
      "Com evidência de 95.0%, NÃO REJEITAMOS a hipótese de que os dados são gerados aleatoriamente\n"
     ]
    }
   ],
   "source": [
    "print('10 primeiros elementos: ', exemplo_comercial[:10], '\\n')\n",
    "executar(exemplo_comercial, n_classes=10)"
   ]
  },
  {
   "cell_type": "markdown",
   "metadata": {},
   "source": [
    "### n = 1000, 100 classes, alfa = 0.05"
   ]
  },
  {
   "cell_type": "code",
   "execution_count": 27,
   "metadata": {},
   "outputs": [
    {
     "name": "stdout",
     "output_type": "stream",
     "text": [
      "10 primeiros elementos:  [0.9662122432916482, 0.12917300273160123, 0.01065691002209527, 0.11068674135519506, 0.31206195676329634, 0.8253073207220563, 0.940139375599166, 0.9224856951844346, 0.21707896479269442, 0.4461612708150229] \n",
      "\n",
      "Teste de frequência\n",
      "\n",
      "        Classes  Freq Observada  Freq Esperada  Qui Quadrado\n",
      "0   0.00 - 0.01              12             10           0.4\n",
      "1   0.01 - 0.02              15             10           2.5\n",
      "2   0.02 - 0.03              16             10           3.6\n",
      "3   0.03 - 0.04               9             10           0.1\n",
      "4   0.04 - 0.05               8             10           0.4\n",
      "..          ...             ...            ...           ...\n",
      "95  0.95 - 0.96               9             10           0.1\n",
      "96  0.96 - 0.97              14             10           1.6\n",
      "97  0.97 - 0.98               8             10           0.4\n",
      "98  0.98 - 0.99              12             10           0.4\n",
      "99  0.99 - 1.00               4             10           3.6\n",
      "\n",
      "[100 rows x 4 columns] \n",
      "\n",
      "H0: O conjunto de dados é uniformemente distribuido\n",
      "H1: O conjunto de dados NÃO é uniformemente distribuido\n",
      "\n",
      "Se o valor de nossa Estatística for menor que o valor tabelado,             não rejeitamos nossa hipótese nula, caso contrário, a rejeitamos.\n",
      "\n",
      "117.19999999999997 : Valor da estatística\n",
      "123.2252214533618 : Valor tabelado da qui-quadrado             com 99 graus de liberdade e significância alfa de 0.05\n",
      "\n",
      "Com evidência de 95.0%,             NÃO REJEITAMOS a hipótese de que os dados são uniformemente distribuidos\n",
      "Teste de execução\n",
      "\n",
      "Houve 661 execuções\n",
      "\n",
      "H0: Média de execuções esperada = 666.3333333333334\n",
      "H1: Média de execuções esperada != 666.3333333333334\n",
      "\n",
      "Se o valor de Z estiver em: -1.6448536269514729 < Z < 1.6448536269514722             aceitamos que os números são gerados aleatoriamente, caso contrário, a rejeitamos.\n",
      "\n",
      "-0.4003629935189159 : Valor da estatística\n",
      "\n",
      "Com evidência de 95.0%, NÃO REJEITAMOS a hipótese de que os dados são gerados aleatoriamente\n"
     ]
    }
   ],
   "source": [
    "print('10 primeiros elementos: ', exemplo_comercial[:10], '\\n')\n",
    "executar(exemplo_comercial, n_classes=100)"
   ]
  },
  {
   "cell_type": "markdown",
   "metadata": {},
   "source": [
    "### n = 100000, 10 classes, alfa = 0.05"
   ]
  },
  {
   "cell_type": "code",
   "execution_count": 28,
   "metadata": {},
   "outputs": [
    {
     "name": "stdout",
     "output_type": "stream",
     "text": [
      "10 primeiros elementos:  [0.9662122432916482, 0.12917300273160123, 0.01065691002209527, 0.11068674135519506, 0.31206195676329634, 0.8253073207220563, 0.940139375599166, 0.9224856951844346, 0.21707896479269442, 0.4461612708150229] \n",
      "\n",
      "Teste de frequência\n",
      "\n",
      "       Classes  Freq Observada  Freq Esperada  Qui Quadrado\n",
      "0  0.00 - 0.10           10029          10000        0.0841\n",
      "1  0.10 - 0.20            9934          10000        0.4356\n",
      "2  0.20 - 0.30           10010          10000        0.0100\n",
      "3  0.30 - 0.40           10001          10000        0.0001\n",
      "4  0.40 - 0.50            9951          10000        0.2401\n",
      "5  0.50 - 0.60           10101          10000        1.0201\n",
      "6  0.60 - 0.70           10107          10000        1.1449\n",
      "7  0.70 - 0.80            9894          10000        1.1236\n",
      "8  0.80 - 0.90            9968          10000        0.1024\n",
      "9  0.90 - 1.00           10005          10000        0.0025 \n",
      "\n",
      "H0: O conjunto de dados é uniformemente distribuido\n",
      "H1: O conjunto de dados NÃO é uniformemente distribuido\n",
      "\n",
      "Se o valor de nossa Estatística for menor que o valor tabelado,             não rejeitamos nossa hipótese nula, caso contrário, a rejeitamos.\n",
      "\n",
      "4.1634 : Valor da estatística\n",
      "16.918977604620448 : Valor tabelado da qui-quadrado             com 9 graus de liberdade e significância alfa de 0.05\n",
      "\n",
      "Com evidência de 95.0%,             NÃO REJEITAMOS a hipótese de que os dados são uniformemente distribuidos\n",
      "Teste de execução\n",
      "\n",
      "Houve 66641 execuções\n",
      "\n",
      "H0: Média de execuções esperada = 66666.33333333333\n",
      "H1: Média de execuções esperada != 66666.33333333333\n",
      "\n",
      "Se o valor de Z estiver em: -1.6448536269514729 < Z < 1.6448536269514722             aceitamos que os números são gerados aleatoriamente, caso contrário, a rejeitamos.\n",
      "\n",
      "-0.19000172189837072 : Valor da estatística\n",
      "\n",
      "Com evidência de 95.0%, NÃO REJEITAMOS a hipótese de que os dados são gerados aleatoriamente\n"
     ]
    }
   ],
   "source": [
    "exemplo_comercial = mcl(a=7**5, b=0, m=2**31 - 1, seed=123456, n=100000)\n",
    "print('10 primeiros elementos: ', exemplo_comercial[:10], '\\n')\n",
    "executar(exemplo_comercial, n_classes=10)"
   ]
  },
  {
   "cell_type": "markdown",
   "metadata": {},
   "source": [
    "### n = 100000, 100 classes, alfa = 0.05"
   ]
  },
  {
   "cell_type": "code",
   "execution_count": 29,
   "metadata": {},
   "outputs": [
    {
     "name": "stdout",
     "output_type": "stream",
     "text": [
      "10 primeiros elementos:  [0.9662122432916482, 0.12917300273160123, 0.01065691002209527, 0.11068674135519506, 0.31206195676329634, 0.8253073207220563, 0.940139375599166, 0.9224856951844346, 0.21707896479269442, 0.4461612708150229] \n",
      "\n",
      "Teste de frequência\n",
      "\n",
      "        Classes  Freq Observada  Freq Esperada  Qui Quadrado\n",
      "0   0.00 - 0.01            1014           1000         0.196\n",
      "1   0.01 - 0.02            1028           1000         0.784\n",
      "2   0.02 - 0.03            1037           1000         1.369\n",
      "3   0.03 - 0.04             928           1000         5.184\n",
      "4   0.04 - 0.05             982           1000         0.324\n",
      "..          ...             ...            ...           ...\n",
      "95  0.95 - 0.96             991           1000         0.081\n",
      "96  0.96 - 0.97             977           1000         0.529\n",
      "97  0.97 - 0.98            1025           1000         0.625\n",
      "98  0.98 - 0.99             982           1000         0.324\n",
      "99  0.99 - 1.00            1027           1000         0.729\n",
      "\n",
      "[100 rows x 4 columns] \n",
      "\n",
      "H0: O conjunto de dados é uniformemente distribuido\n",
      "H1: O conjunto de dados NÃO é uniformemente distribuido\n",
      "\n",
      "Se o valor de nossa Estatística for menor que o valor tabelado,             não rejeitamos nossa hipótese nula, caso contrário, a rejeitamos.\n",
      "\n",
      "74.99800000000002 : Valor da estatística\n",
      "123.2252214533618 : Valor tabelado da qui-quadrado             com 99 graus de liberdade e significância alfa de 0.05\n",
      "\n",
      "Com evidência de 95.0%,             NÃO REJEITAMOS a hipótese de que os dados são uniformemente distribuidos\n",
      "Teste de execução\n",
      "\n",
      "Houve 66641 execuções\n",
      "\n",
      "H0: Média de execuções esperada = 66666.33333333333\n",
      "H1: Média de execuções esperada != 66666.33333333333\n",
      "\n",
      "Se o valor de Z estiver em: -1.6448536269514729 < Z < 1.6448536269514722             aceitamos que os números são gerados aleatoriamente, caso contrário, a rejeitamos.\n",
      "\n",
      "-0.19000172189837072 : Valor da estatística\n",
      "\n",
      "Com evidência de 95.0%, NÃO REJEITAMOS a hipótese de que os dados são gerados aleatoriamente\n"
     ]
    }
   ],
   "source": [
    "print('10 primeiros elementos: ', exemplo_comercial[:10], '\\n')\n",
    "executar(exemplo_comercial, n_classes=100)"
   ]
  }
 ],
 "metadata": {
  "kernelspec": {
   "display_name": "Python 3",
   "language": "python",
   "name": "python3"
  },
  "language_info": {
   "codemirror_mode": {
    "name": "ipython",
    "version": 3
   },
   "file_extension": ".py",
   "mimetype": "text/x-python",
   "name": "python",
   "nbconvert_exporter": "python",
   "pygments_lexer": "ipython3",
   "version": "3.8.5"
  }
 },
 "nbformat": 4,
 "nbformat_minor": 4
}
